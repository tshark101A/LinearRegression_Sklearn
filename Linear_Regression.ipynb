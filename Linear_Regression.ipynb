{
 "cells": [
  {
   "cell_type": "code",
   "execution_count": 43,
   "id": "92ffa0f7",
   "metadata": {},
   "outputs": [],
   "source": [
    "#importing the necessities\n",
    "import numpy as np\n",
    "import pandas as pd\n",
    "import matplotlib.pyplot as plt"
   ]
  },
  {
   "cell_type": "code",
   "execution_count": 44,
   "id": "9862ee23",
   "metadata": {},
   "outputs": [
    {
     "name": "stdout",
     "output_type": "stream",
     "text": [
      "   Hours  Scores\n",
      "0    2.5      21\n",
      "1    5.1      47\n",
      "2    3.2      27\n",
      "3    8.5      75\n",
      "4    3.5      30\n"
     ]
    }
   ],
   "source": [
    "#loading the dataset\n",
    "data=pd.read_csv(\"score.csv\")\n",
    "print(data.head())"
   ]
  },
  {
   "cell_type": "code",
   "execution_count": 45,
   "id": "2ead8fe6",
   "metadata": {},
   "outputs": [],
   "source": [
    "#assigining train and test fields\n",
    "X=data.iloc[:, :-1].values  \n",
    "\n",
    "y=data.iloc[:, 1].values  "
   ]
  },
  {
   "cell_type": "code",
   "execution_count": 46,
   "id": "6e45f407",
   "metadata": {},
   "outputs": [
    {
     "name": "stdout",
     "output_type": "stream",
     "text": [
      "[[3.2]\n",
      " [2.7]\n",
      " [9.2]\n",
      " [5.5]\n",
      " [3.8]\n",
      " [5.1]\n",
      " [2.5]\n",
      " [2.5]\n",
      " [8.9]\n",
      " [7.8]\n",
      " [6.9]\n",
      " [2.7]\n",
      " [8.3]\n",
      " [4.5]\n",
      " [5.9]\n",
      " [1.5]]\n",
      "******************\n",
      "[[1.1]\n",
      " [3.3]\n",
      " [1.9]\n",
      " [8.5]\n",
      " [4.8]\n",
      " [7.7]\n",
      " [6.1]\n",
      " [7.4]\n",
      " [3.5]]\n",
      "******************\n",
      "[27 30 88 60 35 47 30 21 95 86 76 25 81 41 62 20]\n",
      "******************\n",
      "[17 42 24 75 54 85 67 69 30]\n"
     ]
    }
   ],
   "source": [
    "#Splitting the dataset into train and test sets\n",
    "from sklearn.linear_model import LinearRegression\n",
    "from sklearn.model_selection import train_test_split\n",
    "\n",
    "X_train, X_test, y_train, y_test = train_test_split(X, y, test_size=0.33, random_state=1)\n",
    "print(X_train)\n",
    "print(\"******************\")\n",
    "print(X_test)\n",
    "print(\"******************\")\n",
    "print(y_train)\n",
    "print(\"******************\")\n",
    "print(y_test)"
   ]
  },
  {
   "cell_type": "code",
   "execution_count": 47,
   "id": "22c7e2af",
   "metadata": {},
   "outputs": [],
   "source": [
    "#training the model and predicting the output\n",
    "reg= LinearRegression()\n",
    "reg.fit(X_train,y_train)\n",
    "pred=reg.predict(X_test)"
   ]
  },
  {
   "cell_type": "code",
   "execution_count": 48,
   "id": "80eebe77",
   "metadata": {},
   "outputs": [
    {
     "name": "stdout",
     "output_type": "stream",
     "text": [
      "   True      Found\n",
      "0    17  10.563512\n",
      "1    42  33.291657\n",
      "2    24  18.828292\n",
      "3    75  87.012726\n",
      "4    54  48.788119\n",
      "5    85  78.747946\n",
      "6    67  62.218386\n",
      "7    69  75.648654\n",
      "8    30  35.357852\n"
     ]
    }
   ],
   "source": [
    "df=pd.DataFrame({\"True\": y_test, \"Found\": pred})\n",
    "print(df)"
   ]
  },
  {
   "cell_type": "code",
   "execution_count": 49,
   "id": "59ec5a74",
   "metadata": {},
   "outputs": [
    {
     "name": "stdout",
     "output_type": "stream",
     "text": [
      "[94.7609569]\n"
     ]
    }
   ],
   "source": [
    "#checking the model using random data\n",
    "hour=[[9.25]]\n",
    "h=reg.predict(hour)\n",
    "print(h)"
   ]
  },
  {
   "cell_type": "code",
   "execution_count": 50,
   "id": "0cbc23e8",
   "metadata": {},
   "outputs": [
    {
     "name": "stdout",
     "output_type": "stream",
     "text": [
      "6.731257577459276\n"
     ]
    }
   ],
   "source": [
    "#validating the model\n",
    "from sklearn import metrics\n",
    "print(metrics.mean_absolute_error(y_test,pred))"
   ]
  },
  {
   "cell_type": "code",
   "execution_count": 51,
   "id": "cd94eff9",
   "metadata": {},
   "outputs": [
    {
     "data": {
      "image/png": "[encoded data removed]",
      "text/plain": [
       "<Figure size 432x288 with 1 Axes>"
      ]
     },
     "metadata": {
      "needs_background": "light"
     },
     "output_type": "display_data"
    }
   ],
   "source": [
    "#plotting the graph\n",
    "plt.scatter(X,y)\n",
    "plt.plot(X,reg.coef_*X+reg.intercept_)\n",
    "plt.show()"
   ]
  },
  {
   "cell_type": "code",
   "execution_count": null,
   "id": "379864ca",
   "metadata": {},
   "outputs": [],
   "source": []
  }
 ],
 "metadata": {
  "kernelspec": {
   "display_name": "Python 3",
   "language": "python",
   "name": "python3"
  },
  "language_info": {
   "codemirror_mode": {
    "name": "ipython",
    "version": 3
   },
   "file_extension": ".py",
   "mimetype": "text/x-python",
   "name": "python",
   "nbconvert_exporter": "python",
   "pygments_lexer": "ipython3",
   "version": "3.8.5"
  }
 },
 "nbformat": 4,
 "nbformat_minor": 5
}
